{
 "cells": [
  {
   "cell_type": "code",
   "execution_count": 1,
   "metadata": {},
   "outputs": [],
   "source": [
    "import pandas as pd\n",
    "import seaborn as sns\n",
    "import matplotlib.pyplot as plt"
   ]
  },
  {
   "cell_type": "code",
   "execution_count": 2,
   "metadata": {},
   "outputs": [
    {
     "data": {
      "text/html": [
       "<div>\n",
       "<style scoped>\n",
       "    .dataframe tbody tr th:only-of-type {\n",
       "        vertical-align: middle;\n",
       "    }\n",
       "\n",
       "    .dataframe tbody tr th {\n",
       "        vertical-align: top;\n",
       "    }\n",
       "\n",
       "    .dataframe thead th {\n",
       "        text-align: right;\n",
       "    }\n",
       "</style>\n",
       "<table border=\"1\" class=\"dataframe\">\n",
       "  <thead>\n",
       "    <tr style=\"text-align: right;\">\n",
       "      <th></th>\n",
       "      <th>Grouping</th>\n",
       "      <th>Age (years)</th>\n",
       "      <th>Education</th>\n",
       "      <th>Working status</th>\n",
       "      <th>Marital status</th>\n",
       "      <th>Menarche (years)</th>\n",
       "      <th>Menopause</th>\n",
       "      <th>First pregnancy</th>\n",
       "      <th>Parity</th>\n",
       "      <th>Breastfeeding</th>\n",
       "      <th>Highfat</th>\n",
       "      <th>BMI</th>\n",
       "      <th>Ethnicity</th>\n",
       "    </tr>\n",
       "  </thead>\n",
       "  <tbody>\n",
       "    <tr>\n",
       "      <th>0</th>\n",
       "      <td>BC</td>\n",
       "      <td>&gt;= 50</td>\n",
       "      <td>Senior high school</td>\n",
       "      <td>Housewife</td>\n",
       "      <td>Marriage</td>\n",
       "      <td>12  to 13</td>\n",
       "      <td>&lt; 50 years</td>\n",
       "      <td>20-29 years</td>\n",
       "      <td>&gt;= Multiparous</td>\n",
       "      <td>&gt;=12 months</td>\n",
       "      <td>Normal</td>\n",
       "      <td>Obesity</td>\n",
       "      <td>Minangnese</td>\n",
       "    </tr>\n",
       "    <tr>\n",
       "      <th>1</th>\n",
       "      <td>Non-BC</td>\n",
       "      <td>&gt;= 50</td>\n",
       "      <td>Vocational degree</td>\n",
       "      <td>Master's student</td>\n",
       "      <td>Single/ widow</td>\n",
       "      <td>&gt;13</td>\n",
       "      <td>&lt; 50 years</td>\n",
       "      <td>&gt;30 years</td>\n",
       "      <td>&gt;= Multiparous</td>\n",
       "      <td>&lt;12 months</td>\n",
       "      <td>High</td>\n",
       "      <td>Normal</td>\n",
       "      <td>Minangnese</td>\n",
       "    </tr>\n",
       "    <tr>\n",
       "      <th>2</th>\n",
       "      <td>BC</td>\n",
       "      <td>&gt;= 50</td>\n",
       "      <td>Senior high school</td>\n",
       "      <td>Housewife</td>\n",
       "      <td>Marriage</td>\n",
       "      <td>7 to 11</td>\n",
       "      <td>&lt; 50 years</td>\n",
       "      <td>20-29 years</td>\n",
       "      <td>&gt;= Multiparous</td>\n",
       "      <td>&gt;=12 months</td>\n",
       "      <td>Normal</td>\n",
       "      <td>Normal</td>\n",
       "      <td>Javanese</td>\n",
       "    </tr>\n",
       "    <tr>\n",
       "      <th>3</th>\n",
       "      <td>Non-BC</td>\n",
       "      <td>&gt;= 50</td>\n",
       "      <td>Senior high school</td>\n",
       "      <td>Master's student</td>\n",
       "      <td>Marriage</td>\n",
       "      <td>12  to 13</td>\n",
       "      <td>&lt; 50 years</td>\n",
       "      <td>20-29 years</td>\n",
       "      <td>Primiparous</td>\n",
       "      <td>&gt;=12 months</td>\n",
       "      <td>High</td>\n",
       "      <td>Normal</td>\n",
       "      <td>Javanese</td>\n",
       "    </tr>\n",
       "    <tr>\n",
       "      <th>4</th>\n",
       "      <td>BC</td>\n",
       "      <td>&gt;= 50</td>\n",
       "      <td>Senior high school</td>\n",
       "      <td>Private servant</td>\n",
       "      <td>Marriage</td>\n",
       "      <td>&gt;13</td>\n",
       "      <td>&lt; 50 years</td>\n",
       "      <td>20-29 years</td>\n",
       "      <td>&gt;= Multiparous</td>\n",
       "      <td>&gt;=12 months</td>\n",
       "      <td>High</td>\n",
       "      <td>Normal</td>\n",
       "      <td>Minangnese</td>\n",
       "    </tr>\n",
       "  </tbody>\n",
       "</table>\n",
       "</div>"
      ],
      "text/plain": [
       "  Grouping Age (years)           Education    Working status Marital status  \\\n",
       "0       BC       >= 50  Senior high school         Housewife       Marriage   \n",
       "1   Non-BC       >= 50   Vocational degree  Master's student  Single/ widow   \n",
       "2       BC       >= 50  Senior high school         Housewife       Marriage   \n",
       "3   Non-BC       >= 50  Senior high school  Master's student       Marriage   \n",
       "4       BC       >= 50  Senior high school   Private servant       Marriage   \n",
       "\n",
       "  Menarche (years)   Menopause First pregnancy          Parity Breastfeeding  \\\n",
       "0        12  to 13  < 50 years     20-29 years  >= Multiparous   >=12 months   \n",
       "1              >13  < 50 years       >30 years  >= Multiparous    <12 months   \n",
       "2          7 to 11  < 50 years     20-29 years  >= Multiparous   >=12 months   \n",
       "3        12  to 13  < 50 years     20-29 years     Primiparous   >=12 months   \n",
       "4              >13  < 50 years     20-29 years  >= Multiparous   >=12 months   \n",
       "\n",
       "  Highfat      BMI   Ethnicity  \n",
       "0  Normal  Obesity  Minangnese  \n",
       "1    High   Normal  Minangnese  \n",
       "2  Normal   Normal    Javanese  \n",
       "3    High   Normal    Javanese  \n",
       "4    High   Normal  Minangnese  "
      ]
     },
     "execution_count": 2,
     "metadata": {},
     "output_type": "execute_result"
    }
   ],
   "source": [
    "df = pd.read_csv('../datamining/datasets/breast-cancer.csv') # Ubah sesuai dengan lokasi relatif file breast-cancer.csv\n",
    "df.head()"
   ]
  },
  {
   "cell_type": "markdown",
   "metadata": {},
   "source": [
    "## Data Preprocessing"
   ]
  },
  {
   "cell_type": "code",
   "execution_count": 3,
   "metadata": {},
   "outputs": [],
   "source": [
    "from sklearn.preprocessing import LabelEncoder\n",
    "from sklearn.model_selection import train_test_split"
   ]
  },
  {
   "cell_type": "code",
   "execution_count": 4,
   "metadata": {},
   "outputs": [
    {
     "data": {
      "text/plain": [
       "Grouping            0\n",
       "Age (years)         0\n",
       "Education           0\n",
       "Working status      0\n",
       "Marital status      0\n",
       "Menarche (years)    0\n",
       "Menopause           0\n",
       "First pregnancy     2\n",
       "Parity              0\n",
       "Breastfeeding       0\n",
       "Highfat             0\n",
       "BMI                 0\n",
       "Ethnicity           0\n",
       "dtype: int64"
      ]
     },
     "execution_count": 4,
     "metadata": {},
     "output_type": "execute_result"
    }
   ],
   "source": [
    "df = pd.read_csv('datasets/breast-cancer.csv')\n",
    "df.isnull().sum()"
   ]
  },
  {
   "cell_type": "code",
   "execution_count": 5,
   "metadata": {},
   "outputs": [
    {
     "data": {
      "text/plain": [
       "<Axes: xlabel='First pregnancy'>"
      ]
     },
     "execution_count": 5,
     "metadata": {},
     "output_type": "execute_result"
    },
    {
     "data": {
      "image/png": "[encoded data removed]",
      "text/plain": [
       "<Figure size 640x480 with 1 Axes>"
      ]
     },
     "metadata": {},
     "output_type": "display_data"
    }
   ],
   "source": [
    "df['First pregnancy'].value_counts().plot.bar()"
   ]
  },
  {
   "cell_type": "code",
   "execution_count": 6,
   "metadata": {},
   "outputs": [],
   "source": [
    "df['First pregnancy'] = df['First pregnancy'].fillna('20-29 years')"
   ]
  },
  {
   "cell_type": "code",
   "execution_count": 7,
   "metadata": {},
   "outputs": [
    {
     "data": {
      "text/plain": [
       "Grouping            0\n",
       "Age (years)         0\n",
       "Education           0\n",
       "Working status      0\n",
       "Marital status      0\n",
       "Menarche (years)    0\n",
       "Menopause           0\n",
       "First pregnancy     0\n",
       "Parity              0\n",
       "Breastfeeding       0\n",
       "Highfat             0\n",
       "BMI                 0\n",
       "Ethnicity           0\n",
       "dtype: int64"
      ]
     },
     "execution_count": 7,
     "metadata": {},
     "output_type": "execute_result"
    }
   ],
   "source": [
    "df.isnull().sum()"
   ]
  },
  {
   "cell_type": "code",
   "execution_count": 8,
   "metadata": {},
   "outputs": [
    {
     "name": "stdout",
     "output_type": "stream",
     "text": [
      "  Grouping  Age (years)  Education  Working status  Marital status  \\\n",
      "0       BC            1          4               3               0   \n",
      "1   Non-BC            1          6               4               1   \n",
      "2       BC            1          4               3               0   \n",
      "3   Non-BC            1          4               4               0   \n",
      "4       BC            1          4               5               0   \n",
      "\n",
      "   Menarche (years)  Menopause  First pregnancy  Parity  Breastfeeding  \\\n",
      "0                 0          0                0       0              1   \n",
      "1                 2          0                2       0              0   \n",
      "2                 1          0                0       0              1   \n",
      "3                 0          0                0       2              1   \n",
      "4                 2          0                0       0              1   \n",
      "\n",
      "   Highfat  BMI  Ethnicity  \n",
      "0        1    1          1  \n",
      "1        0    0          1  \n",
      "2        1    0          0  \n",
      "3        0    0          0  \n",
      "4        0    0          1  \n",
      "Jumlah Data Train: 320\n",
      "Jumlah Data Test: 80\n"
     ]
    }
   ],
   "source": [
    "# Mengubah data kategorikal menjadi numerik\n",
    "label_encoder = LabelEncoder()\n",
    "for column in df.columns.drop('Grouping'):\n",
    "    df[column] = label_encoder.fit_transform(df[column])\n",
    "\n",
    "print(df.head())\n",
    "\n",
    "# Memisahkan atribut dan label\n",
    "X = df.drop('Grouping', axis=1)\n",
    "y = df['Grouping']\n",
    "\n",
    "# Membagi data menjadi data latih dan data uji\n",
    "X_train, X_test, y_train, y_test = train_test_split(X, y, test_size=0.2, random_state=1)\n",
    "print(\"Jumlah Data Train: {}\".format(len(X_train)))\n",
    "print(\"Jumlah Data Test: {}\".format(len(X_test)))"
   ]
  },
  {
   "cell_type": "markdown",
   "metadata": {},
   "source": [
    "## Klasifikasi dengan Decision Tree"
   ]
  },
  {
   "cell_type": "code",
   "execution_count": 9,
   "metadata": {},
   "outputs": [],
   "source": [
    "from sklearn.tree import DecisionTreeClassifier\n",
    "from sklearn.model_selection import StratifiedKFold\n",
    "from sklearn.model_selection import cross_val_score\n",
    "from sklearn.metrics import classification_report, accuracy_score, precision_score, recall_score, f1_score"
   ]
  },
  {
   "cell_type": "code",
   "execution_count": 10,
   "metadata": {},
   "outputs": [
    {
     "name": "stdout",
     "output_type": "stream",
     "text": [
      "              precision    recall  f1-score   support\n",
      "\n",
      "          BC       0.75      0.80      0.77        45\n",
      "      Non-BC       0.72      0.66      0.69        35\n",
      "\n",
      "    accuracy                           0.74        80\n",
      "   macro avg       0.73      0.73      0.73        80\n",
      "weighted avg       0.74      0.74      0.74        80\n",
      "\n",
      "Akurasi: 0.7375\n",
      "Precision: 0.734375\n",
      "Recall: 0.7285714285714286\n",
      "F1 Score: 0.7303803562831006\n"
     ]
    }
   ],
   "source": [
    "# Proses Klasifikasi, dengan semua fitur tanpa tuning parameter\n",
    "clf = DecisionTreeClassifier(random_state=1)\n",
    "clf.fit(X_train, y_train)\n",
    "y_pred = clf.predict(X_test) #y_pred digunakan untuk mengevaluasi kinerja model dengan membandingkan y_pred dengan y_test\n",
    "\n",
    "# Tampilkan hasil klasifikasi dengan classification report\n",
    "print(classification_report(y_test, y_pred))\n",
    "\n",
    "# Tampilkan akurasi, precision, recall, dan f1 score\n",
    "print(\"Akurasi: {}\".format(accuracy_score(y_test, y_pred))) # rasio dari jumlah prediksi benar terhadap total jumlah sampel\n",
    "print(\"Precision: {}\".format(precision_score(y_test, y_pred, average='macro'))) # proporsi dari prediksi benar (positif) terhadap semua sampel yang diprediksi sebagai kelas tertentu\n",
    "print(\"Recall: {}\".format(recall_score(y_test, y_pred, average='macro'))) \n",
    "print(\"F1 Score: {}\".format(f1_score(y_test, y_pred, average='macro')))"
   ]
  },
  {
   "cell_type": "code",
   "execution_count": 11,
   "metadata": {},
   "outputs": [],
   "source": [
    "# Fungsi visualisasi cross validation score\n",
    "def visualization(data_y_test, data_y_pred, fig_title, fig_x_label, fig_y_label):\n",
    "\n",
    "    # Asumsikan y_test dan y_pred sudah didefinisikan\n",
    "    report = classification_report(data_y_test, data_y_pred, output_dict=True)\n",
    "\n",
    "    # Konversi dictionary ke DataFrame\n",
    "    report_df = pd.DataFrame(report).transpose()\n",
    "\n",
    "    # Drop kolom 'support' karena biasanya tidak diperlukan untuk visualisasi\n",
    "    report_df = report_df.drop(columns=['support'])\n",
    "    report_df = report_df.drop(['accuracy', 'macro avg', 'weighted avg'])\n",
    "\n",
    "    # Reset index untuk mengatur ulang kolom indeks sebagai kolom normal\n",
    "    report_df = report_df.reset_index()\n",
    "\n",
    "    # Ubah DataFrame menjadi format panjang (long format)\n",
    "    report_melted = pd.melt(report_df, id_vars=['index'], value_vars=['precision', 'recall', 'f1-score'],\n",
    "                            var_name='Metric', value_name='Value')\n",
    "\n",
    "    # Mengganti nama kolom untuk kejelasan\n",
    "    report_melted.rename(columns={'index': 'Class'}, inplace=True)\n",
    "\n",
    "    # Plotting menggunakan seaborn countplot\n",
    "    plt.figure(figsize=(12, 6))\n",
    "    sns.barplot(x='Class', y='Value', hue='Metric', data=report_melted)\n",
    "\n",
    "    # Menambahkan title dan label\n",
    "    plt.title(fig_title)\n",
    "    plt.xlabel(fig_x_label)\n",
    "    plt.ylabel(fig_y_label)\n",
    "    plt.ylim(0, 1)  # Pastikan y-axis berada dalam rentang 0 sampai 1 karena metrik berada dalam rentang ini\n",
    "\n",
    "    # Menampilkan plot\n",
    "    plt.legend(loc='upper right')\n",
    "    plt.show()\n",
    "\n",
    "    # Menampilkan plot\n",
    "    return plt.show()"
   ]
  },
  {
   "cell_type": "code",
   "execution_count": 12,
   "metadata": {},
   "outputs": [
    {
     "data": {
      "image/png": "[encoded data removed]",
      "text/plain": [
       "<Figure size 1200x600 with 1 Axes>"
      ]
     },
     "metadata": {},
     "output_type": "display_data"
    }
   ],
   "source": [
    "visualization(y_test, y_pred, 'Performance Analysis of DTC Without Tuning Parameter', 'Group', 'Accuracy')"
   ]
  },
  {
   "cell_type": "markdown",
   "metadata": {},
   "source": [
    "# TOP 6 FEATURES"
   ]
  },
  {
   "cell_type": "markdown",
   "metadata": {},
   "source": [
    "Top 6 features berdasarkan proses feature selection:\n",
    "- Breastfeeding\n",
    "- Highfat\n",
    "- Parity\n",
    "- Menopause\n",
    "- Education \n",
    "- Age (years)"
   ]
  },
  {
   "cell_type": "code",
   "execution_count": 13,
   "metadata": {},
   "outputs": [
    {
     "name": "stdout",
     "output_type": "stream",
     "text": [
      "              precision    recall  f1-score   support\n",
      "\n",
      "          BC       0.77      0.96      0.85        45\n",
      "      Non-BC       0.92      0.63      0.75        35\n",
      "\n",
      "    accuracy                           0.81        80\n",
      "   macro avg       0.84      0.79      0.80        80\n",
      "weighted avg       0.83      0.81      0.81        80\n",
      "\n",
      "Akurasi: 0.8125\n",
      "Precision: 0.8422619047619048\n",
      "Recall: 0.7920634920634921\n",
      "F1 Score: 0.7986239301896292\n"
     ]
    }
   ],
   "source": [
    "# Proses Klasifikasi, dengan 6 fitur terbaik tanpa tuning parameter\n",
    "top_6 = ['Breastfeeding', 'Highfat', 'Parity', 'Menopause', 'Education', 'Age (years)']\n",
    "clf = DecisionTreeClassifier(random_state=1)\n",
    "clf.fit(X_train[top_6], y_train)\n",
    "y_pred = clf.predict(X_test[top_6])\n",
    "\n",
    "print(classification_report(y_test, y_pred))\n",
    "\n",
    "print(\"Akurasi: {}\".format(accuracy_score(y_test, y_pred)))\n",
    "print(\"Precision: {}\".format(precision_score(y_test, y_pred, average='macro')))\n",
    "print(\"Recall: {}\".format(recall_score(y_test, y_pred, average='macro')))\n",
    "print(\"F1 Score: {}\".format(f1_score(y_test, y_pred, average='macro')))"
   ]
  },
  {
   "cell_type": "code",
   "execution_count": 14,
   "metadata": {},
   "outputs": [
    {
     "data": {
      "image/png": "[encoded data removed]",
      "text/plain": [
       "<Figure size 1200x600 with 1 Axes>"
      ]
     },
     "metadata": {},
     "output_type": "display_data"
    }
   ],
   "source": [
    "visualization(y_test, y_pred, 'Performance Analysis of DTC Without Tuning Parameter on The Best 6 Features', 'Group', 'Accuracy')"
   ]
  },
  {
   "cell_type": "code",
   "execution_count": 15,
   "metadata": {},
   "outputs": [
    {
     "name": "stdout",
     "output_type": "stream",
     "text": [
      "Fold ke-1: 0.71875\n",
      "Fold ke-2: 0.71875\n",
      "Fold ke-3: 0.78125\n",
      "Fold ke-4: 0.875\n",
      "Fold ke-5: 0.71875\n",
      "Fold ke-6: 0.875\n",
      "Fold ke-7: 0.75\n",
      "Fold ke-8: 0.5625\n",
      "Fold ke-9: 0.84375\n",
      "Fold ke-10: 0.78125\n",
      "Akurasi tertinggi: 0.875\n"
     ]
    }
   ],
   "source": [
    "# Lakukan cross validation dengan 10 fold dengan StratifiedKFold\n",
    "\n",
    "skf = StratifiedKFold(n_splits=10, random_state=1, shuffle=True)\n",
    "clf = DecisionTreeClassifier(random_state=1)\n",
    "accuracy_scores = cross_val_score(clf, X_train[top_6], y_train, cv=skf, scoring='accuracy')\n",
    "\n",
    "# Pilih nilai fold dengan akurasi tertinggi\n",
    "for i, acc in enumerate(accuracy_scores):\n",
    "\tprint(\"Fold ke-{}: {}\".format(i+1, acc))\n",
    "\n",
    "print(\"Akurasi tertinggi: {}\".format(accuracy_scores.max()))"
   ]
  },
  {
   "cell_type": "code",
   "execution_count": 16,
   "metadata": {},
   "outputs": [],
   "source": [
    "# plt.figure(figsize=(10, 6))\n",
    "# plt.bar(range(1, 11), accuracy_scores, color='skyblue', edgecolor='black')\n",
    "# plt.xlabel('Fold ke-')\n",
    "# plt.ylabel('Accuracy')\n",
    "# plt.title('Accuracy per Fold - 10 Fold Stratified Cross Validation')\n",
    "# plt.xticks(range(1, 11))\n",
    "# plt.ylim(0, 1)  # Accuracy ranges from 0 to 1\n",
    "# plt.axhline(y=accuracy_scores.max(), color='red', linestyle='--', label='Akurasi Tertinggi')\n",
    "# plt.legend()\n",
    "# plt.grid(axis='y', linestyle='--', alpha=0.7)\n",
    "# plt.show()"
   ]
  },
  {
   "cell_type": "code",
   "execution_count": 17,
   "metadata": {},
   "outputs": [],
   "source": [
    "# accuracy_scores"
   ]
  },
  {
   "cell_type": "markdown",
   "metadata": {},
   "source": [
    "### MENGAMBIL FOLD TERBAIK DARI CROSS VALIDATION"
   ]
  },
  {
   "cell_type": "code",
   "execution_count": 18,
   "metadata": {},
   "outputs": [
    {
     "name": "stdout",
     "output_type": "stream",
     "text": [
      "Fold terbaik adalah fold ke-3 dengan akurasi 0.875\n",
      "Akurasi pada data uji: 0.8125\n"
     ]
    }
   ],
   "source": [
    "# Lakukan manual cross validation dengan 10 fold, kemudian pilih fold yang memiliki akurasi tertinggi untuk digunakan sebagai data uji\n",
    "fold_accuracies = []\n",
    "fold_indices = []\n",
    "\n",
    "kf = StratifiedKFold(n_splits=10, shuffle=True, random_state=1)\n",
    "\n",
    "top_6_X_train = X_train[top_6]\n",
    "\n",
    "# Lakukan 10-fold cross-validation\n",
    "for fold, (train_index, test_index) in enumerate(kf.split(top_6_X_train, y_train)): # membagi 1 fold menjadi data train n data val\n",
    "\tX_train_fold, X_val_fold = top_6_X_train.iloc[train_index], top_6_X_train.iloc[test_index]\n",
    "\ty_train_fold, y_val_fold = y_train.iloc[train_index], y_train.iloc[test_index]\n",
    "\n",
    "\tclf_kflod = DecisionTreeClassifier(random_state=1)\n",
    "\tclf_kflod.fit(X_train_fold, y_train_fold)\n",
    "\n",
    "\taccuracy = clf_kflod.score(X_val_fold, y_val_fold)\n",
    "\tfold_accuracies.append(accuracy)\n",
    "\tfold_indices.append((train_index, test_index))\n",
    "\n",
    "# Ambil fold dengan akurasi tertinggi\n",
    "best_fold_index = fold_accuracies.index(max(fold_accuracies))\n",
    "best_fold_accuracy = fold_accuracies[best_fold_index]\n",
    "best_fold_train_index, best_fold_val_index = fold_indices[best_fold_index]\n",
    "\n",
    "# training ulang model dengan fold terbaik\n",
    "X_train_best_fold = top_6_X_train.iloc[best_fold_train_index]\n",
    "y_train_best_fold = y_train.iloc[best_fold_train_index]\n",
    "X_val_best_fold = top_6_X_train.iloc[best_fold_val_index]\n",
    "y_val_best_fold = y_train.iloc[best_fold_val_index]\n",
    "\n",
    "clf = DecisionTreeClassifier(random_state=1)\n",
    "clf.fit(X_train_best_fold, y_train_best_fold)\n",
    "\n",
    "# Evaluasi model dengan data uji\n",
    "y_pred = clf.predict(X_test[top_6])\n",
    "test_accuracy = accuracy_score(y_test, y_pred)\n",
    "\n",
    "print(\"Fold terbaik adalah fold ke-{} dengan akurasi {}\".format(best_fold_index, best_fold_accuracy))\n",
    "print(\"Akurasi pada data uji: {}\".format(test_accuracy))\n",
    "# Apa bedanya akurasi pada data uji dengan akurasi di fold?"
   ]
  },
  {
   "cell_type": "code",
   "execution_count": 19,
   "metadata": {},
   "outputs": [],
   "source": [
    "# for fold, (train_index, test_index) in enumerate(kf.split(top_6_X_train, y_train)):\n",
    "#     print(f\"foldnya adalah : {fold}\")\n",
    "#     print(f\"train index : {train_index}\")\n",
    "#     print(train_index.shape)\n",
    "#     print(f\"test index : {test_index}\")\n",
    "#     print(test_index.shape)"
   ]
  },
  {
   "cell_type": "code",
   "execution_count": 20,
   "metadata": {},
   "outputs": [],
   "source": [
    "# Membuat fungsi untuk mekanisme StratifiedKFold di atas supaya memudahkan untuk digunakan kembali\n",
    "def cross_val_decision_tree(classifier, X_train, y_train, X_test, y_test, top_features, n_splits=10, random_state=1):\n",
    "\tfold_accuracies = []\n",
    "\tfold_indices = []\n",
    "\n",
    "\tkf = StratifiedKFold(n_splits=n_splits, shuffle=True, random_state=random_state)\n",
    "\n",
    "\ttop_X_train = X_train[top_features]\n",
    "\n",
    "\tfor fold, (train_index, test_index) in enumerate(kf.split(top_X_train, y_train)):\n",
    "\t\tX_train_fold, X_val_fold = top_X_train.iloc[train_index], top_X_train.iloc[test_index]\n",
    "\t\ty_train_fold, y_val_fold = y_train.iloc[train_index], y_train.iloc[test_index]\n",
    "\n",
    "\t\tclassifier.fit(X_train_fold, y_train_fold)\n",
    "\n",
    "\t\taccuracy = clf_kflod.score(X_val_fold, y_val_fold)\n",
    "\t\tfold_accuracies.append(accuracy)\n",
    "\t\tfold_indices.append((train_index, test_index))\n",
    "\n",
    "\tbest_fold_index = fold_accuracies.index(max(fold_accuracies))\n",
    "\tbest_fold_accuracy = fold_accuracies[best_fold_index]\n",
    "\tbest_fold_train_index, best_fold_val_index = fold_indices[best_fold_index]\n",
    "\n",
    "\tX_train_best_fold = top_X_train.iloc[best_fold_train_index]\n",
    "\ty_train_best_fold = y_train.iloc[best_fold_train_index]\n",
    "\tX_val_best_fold = top_X_train.iloc[best_fold_val_index]\n",
    "\ty_val_best_fold = y_train.iloc[best_fold_val_index]\n",
    "\n",
    "\tclassifier.fit(X_train_best_fold, y_train_best_fold)\n",
    "\n",
    "\ty_pred = classifier.predict(X_test[top_features])\n",
    "\ttest_accuracy = accuracy_score(y_test, y_pred)\n",
    "\n",
    "\tprint(\"Best fold is fold-{} with accuracy {}\".format(best_fold_index, best_fold_accuracy))\n",
    "\tprint(\"Test accuracy: {}\".format(test_accuracy))\n",
    "\n",
    "\treturn clf"
   ]
  },
  {
   "cell_type": "markdown",
   "metadata": {},
   "source": [
    "Proses di atas menggunakan klasifier Decision Tree dengan parameter default. Pada proses ini, akan dilakukan hyperparameter tuning untuk mencari parameter terbaik yang dapat meningkatkan performa model."
   ]
  },
  {
   "cell_type": "markdown",
   "metadata": {},
   "source": [
    "## USING HYPERPARAMETER TUNING"
   ]
  },
  {
   "cell_type": "code",
   "execution_count": 21,
   "metadata": {},
   "outputs": [
    {
     "name": "stdout",
     "output_type": "stream",
     "text": [
      "              precision    recall  f1-score   support\n",
      "\n",
      "          BC       0.75      0.98      0.85        45\n",
      "      Non-BC       0.95      0.57      0.71        35\n",
      "\n",
      "    accuracy                           0.80        80\n",
      "   macro avg       0.85      0.77      0.78        80\n",
      "weighted avg       0.84      0.80      0.79        80\n",
      "\n",
      "Akurasi: 0.8\n",
      "Precision: 0.8490718321226796\n",
      "Recall: 0.7746031746031745\n",
      "F1 Score: 0.7802197802197802\n"
     ]
    }
   ],
   "source": [
    "# Membuat klasifier DecisionTreeClassifier dengan parameter yang tidak default\n",
    "clf = DecisionTreeClassifier(\n",
    "\tcriterion='gini', \n",
    "\tsplitter='random',\n",
    "\tmin_samples_split=4,\n",
    "\tmax_depth=2\n",
    ")\n",
    "\n",
    "clf.fit(X_train[top_6], y_train)\n",
    "y_pred = clf.predict(X_test[top_6])\n",
    "\n",
    "print(classification_report(y_test, y_pred))\n",
    "\n",
    "print(\"Akurasi: {}\".format(accuracy_score(y_test, y_pred)))\n",
    "print(\"Precision: {}\".format(precision_score(y_test, y_pred, average='macro')))\n",
    "print(\"Recall: {}\".format(recall_score(y_test, y_pred, average='macro')))\n",
    "print(\"F1 Score: {}\".format(f1_score(y_test, y_pred, average='macro')))"
   ]
  },
  {
   "cell_type": "code",
   "execution_count": 22,
   "metadata": {},
   "outputs": [
    {
     "data": {
      "image/png": "[encoded data removed]",
      "text/plain": [
       "<Figure size 1200x600 with 1 Axes>"
      ]
     },
     "metadata": {},
     "output_type": "display_data"
    }
   ],
   "source": [
    "visualization(y_test, y_pred, 'Performance Analysis of DTC with Tuning Parameter on The Best 5 Features', 'Group', 'Accuracy')"
   ]
  },
  {
   "cell_type": "code",
   "execution_count": 23,
   "metadata": {},
   "outputs": [
    {
     "name": "stdout",
     "output_type": "stream",
     "text": [
      "Best fold is fold-3 with accuracy 0.90625\n",
      "Test accuracy: 0.8\n"
     ]
    }
   ],
   "source": [
    "# Lakukan cross validation dengan 10 fold dengan StratifiedKFold\n",
    "clf_best = cross_val_decision_tree(clf, X_train, y_train, X_test, y_test, top_6, n_splits=10, random_state=1)"
   ]
  }
 ],
 "metadata": {
  "kernelspec": {
   "display_name": "data-analytics",
   "language": "python",
   "name": "python3"
  },
  "language_info": {
   "codemirror_mode": {
    "name": "ipython",
    "version": 3
   },
   "file_extension": ".py",
   "mimetype": "text/x-python",
   "name": "python",
   "nbconvert_exporter": "python",
   "pygments_lexer": "ipython3",
   "version": "3.10.6"
  }
 },
 "nbformat": 4,
 "nbformat_minor": 2
}
