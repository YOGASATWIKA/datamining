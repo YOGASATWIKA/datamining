{
 "cells": [
  {
   "cell_type": "code",
   "execution_count": 1,
   "metadata": {},
   "outputs": [
    {
     "name": "stderr",
     "output_type": "stream",
     "text": [
      "/Users/rudyhendrawan/miniforge3/envs/data-analytics/lib/python3.9/site-packages/scipy/__init__.py:146: UserWarning: A NumPy version >=1.16.5 and <1.23.0 is required for this version of SciPy (detected version 1.23.3\n",
      "  warnings.warn(f\"A NumPy version >={np_minversion} and <{np_maxversion}\"\n"
     ]
    }
   ],
   "source": [
    "import pandas as pd\n",
    "import seaborn as sns\n",
    "import matplotlib.pyplot as plt"
   ]
  },
  {
   "cell_type": "code",
   "execution_count": 2,
   "metadata": {},
   "outputs": [
    {
     "data": {
      "text/html": [
       "<div>\n",
       "<style scoped>\n",
       "    .dataframe tbody tr th:only-of-type {\n",
       "        vertical-align: middle;\n",
       "    }\n",
       "\n",
       "    .dataframe tbody tr th {\n",
       "        vertical-align: top;\n",
       "    }\n",
       "\n",
       "    .dataframe thead th {\n",
       "        text-align: right;\n",
       "    }\n",
       "</style>\n",
       "<table border=\"1\" class=\"dataframe\">\n",
       "  <thead>\n",
       "    <tr style=\"text-align: right;\">\n",
       "      <th></th>\n",
       "      <th>Grouping</th>\n",
       "      <th>Age (years)</th>\n",
       "      <th>Education</th>\n",
       "      <th>Working status</th>\n",
       "      <th>Marital status</th>\n",
       "      <th>Menarche (years)</th>\n",
       "      <th>Menopause</th>\n",
       "      <th>First pregnancy</th>\n",
       "      <th>Parity</th>\n",
       "      <th>Breastfeeding</th>\n",
       "      <th>Highfat</th>\n",
       "      <th>BMI</th>\n",
       "      <th>Ethnicity</th>\n",
       "    </tr>\n",
       "  </thead>\n",
       "  <tbody>\n",
       "    <tr>\n",
       "      <th>0</th>\n",
       "      <td>BC</td>\n",
       "      <td>&gt;= 50</td>\n",
       "      <td>Senior high school</td>\n",
       "      <td>Housewife</td>\n",
       "      <td>Marriage</td>\n",
       "      <td>12  to 13</td>\n",
       "      <td>&lt; 50 years</td>\n",
       "      <td>20-29 years</td>\n",
       "      <td>&gt;= Multiparous</td>\n",
       "      <td>&gt;=12 months</td>\n",
       "      <td>Normal</td>\n",
       "      <td>Obesity</td>\n",
       "      <td>Minangnese</td>\n",
       "    </tr>\n",
       "    <tr>\n",
       "      <th>1</th>\n",
       "      <td>Non-BC</td>\n",
       "      <td>&gt;= 50</td>\n",
       "      <td>Vocational degree</td>\n",
       "      <td>Master's student</td>\n",
       "      <td>Single/ widow</td>\n",
       "      <td>&gt;13</td>\n",
       "      <td>&lt; 50 years</td>\n",
       "      <td>&gt;30 years</td>\n",
       "      <td>&gt;= Multiparous</td>\n",
       "      <td>&lt;12 months</td>\n",
       "      <td>High</td>\n",
       "      <td>Normal</td>\n",
       "      <td>Minangnese</td>\n",
       "    </tr>\n",
       "    <tr>\n",
       "      <th>2</th>\n",
       "      <td>BC</td>\n",
       "      <td>&gt;= 50</td>\n",
       "      <td>Senior high school</td>\n",
       "      <td>Housewife</td>\n",
       "      <td>Marriage</td>\n",
       "      <td>7 to 11</td>\n",
       "      <td>&lt; 50 years</td>\n",
       "      <td>20-29 years</td>\n",
       "      <td>&gt;= Multiparous</td>\n",
       "      <td>&gt;=12 months</td>\n",
       "      <td>Normal</td>\n",
       "      <td>Normal</td>\n",
       "      <td>Javanese</td>\n",
       "    </tr>\n",
       "    <tr>\n",
       "      <th>3</th>\n",
       "      <td>Non-BC</td>\n",
       "      <td>&gt;= 50</td>\n",
       "      <td>Senior high school</td>\n",
       "      <td>Master's student</td>\n",
       "      <td>Marriage</td>\n",
       "      <td>12  to 13</td>\n",
       "      <td>&lt; 50 years</td>\n",
       "      <td>20-29 years</td>\n",
       "      <td>Primiparous</td>\n",
       "      <td>&gt;=12 months</td>\n",
       "      <td>High</td>\n",
       "      <td>Normal</td>\n",
       "      <td>Javanese</td>\n",
       "    </tr>\n",
       "    <tr>\n",
       "      <th>4</th>\n",
       "      <td>BC</td>\n",
       "      <td>&gt;= 50</td>\n",
       "      <td>Senior high school</td>\n",
       "      <td>Private servant</td>\n",
       "      <td>Marriage</td>\n",
       "      <td>&gt;13</td>\n",
       "      <td>&lt; 50 years</td>\n",
       "      <td>20-29 years</td>\n",
       "      <td>&gt;= Multiparous</td>\n",
       "      <td>&gt;=12 months</td>\n",
       "      <td>High</td>\n",
       "      <td>Normal</td>\n",
       "      <td>Minangnese</td>\n",
       "    </tr>\n",
       "  </tbody>\n",
       "</table>\n",
       "</div>"
      ],
      "text/plain": [
       "  Grouping Age (years)           Education    Working status Marital status  \\\n",
       "0       BC       >= 50  Senior high school         Housewife       Marriage   \n",
       "1   Non-BC       >= 50   Vocational degree  Master's student  Single/ widow   \n",
       "2       BC       >= 50  Senior high school         Housewife       Marriage   \n",
       "3   Non-BC       >= 50  Senior high school  Master's student       Marriage   \n",
       "4       BC       >= 50  Senior high school   Private servant       Marriage   \n",
       "\n",
       "  Menarche (years)   Menopause First pregnancy          Parity Breastfeeding  \\\n",
       "0        12  to 13  < 50 years     20-29 years  >= Multiparous   >=12 months   \n",
       "1              >13  < 50 years       >30 years  >= Multiparous    <12 months   \n",
       "2          7 to 11  < 50 years     20-29 years  >= Multiparous   >=12 months   \n",
       "3        12  to 13  < 50 years     20-29 years     Primiparous   >=12 months   \n",
       "4              >13  < 50 years     20-29 years  >= Multiparous   >=12 months   \n",
       "\n",
       "  Highfat      BMI   Ethnicity  \n",
       "0  Normal  Obesity  Minangnese  \n",
       "1    High   Normal  Minangnese  \n",
       "2  Normal   Normal    Javanese  \n",
       "3    High   Normal    Javanese  \n",
       "4    High   Normal  Minangnese  "
      ]
     },
     "execution_count": 2,
     "metadata": {},
     "output_type": "execute_result"
    }
   ],
   "source": [
    "df = pd.read_csv('/Users/rudyhendrawan/miniforge3/datasets/woman-breast-cancer-idn.csv')\n",
    "df.head()"
   ]
  },
  {
   "cell_type": "markdown",
   "metadata": {},
   "source": [
    "## Exploratory Data Analysis"
   ]
  },
  {
   "cell_type": "markdown",
   "metadata": {},
   "source": [
    "**1. Plot the distribution of the target variable: 'Grouping'**"
   ]
  },
  {
   "cell_type": "code",
   "execution_count": 3,
   "metadata": {},
   "outputs": [
    {
     "data": {
      "text/plain": [
       "<Axes: >"
      ]
     },
     "execution_count": 3,
     "metadata": {},
     "output_type": "execute_result"
    },
    {
     "data": {
      "image/png": "[encoded data removed]",
      "text/plain": [
       "<Figure size 432x288 with 1 Axes>"
      ]
     },
     "metadata": {
      "needs_background": "light"
     },
     "output_type": "display_data"
    }
   ],
   "source": [
    "df['Grouping'].value_counts().plot(kind='bar')"
   ]
  },
  {
   "cell_type": "markdown",
   "metadata": {},
   "source": [
    "**2. Plot Distribution of `Age (years)`**"
   ]
  },
  {
   "cell_type": "markdown",
   "metadata": {},
   "source": [
    "**3. Plot Distribution of `Education`**"
   ]
  },
  {
   "cell_type": "markdown",
   "metadata": {},
   "source": [
    "**4. Plot Distribution of `Working Status`**"
   ]
  },
  {
   "cell_type": "markdown",
   "metadata": {},
   "source": [
    "**5. Plot Distribution of `Marital Status`**"
   ]
  },
  {
   "cell_type": "markdown",
   "metadata": {},
   "source": [
    "**6. Plot Distribution of `Menarche (years)`**"
   ]
  },
  {
   "cell_type": "markdown",
   "metadata": {},
   "source": [
    "**7. Plot Distribution of `First Pregnancy`**"
   ]
  },
  {
   "cell_type": "markdown",
   "metadata": {},
   "source": [
    "**8. Plot Distribution of `Parity`**"
   ]
  },
  {
   "cell_type": "markdown",
   "metadata": {},
   "source": [
    "**9. Plot Distribution of `Breast Feeding`**"
   ]
  },
  {
   "cell_type": "markdown",
   "metadata": {},
   "source": [
    "**10. Plot Distribution of `Highfat`**"
   ]
  },
  {
   "cell_type": "markdown",
   "metadata": {},
   "source": [
    "**10. Plot Distribution of `BMI`**"
   ]
  },
  {
   "cell_type": "markdown",
   "metadata": {},
   "source": [
    "**11. Plot Distribution of `Ethnicity`**"
   ]
  },
  {
   "cell_type": "markdown",
   "metadata": {},
   "source": [
    "**12. Gabungkan semua plot di atas dalam satu plot untuk melihat distribusi data secara keseluruhan.**"
   ]
  },
  {
   "cell_type": "markdown",
   "metadata": {},
   "source": [
    "**13. Group the data by `Grouping` and plot the distribution of `Age (years)`**"
   ]
  },
  {
   "cell_type": "markdown",
   "metadata": {},
   "source": [
    "**14. Group the data by `Grouping` and plot the distribution of `Education`**"
   ]
  },
  {
   "cell_type": "markdown",
   "metadata": {},
   "source": [
    "**15. Group the data by `Grouping` and plot the distribution of `Working Status`**"
   ]
  },
  {
   "cell_type": "markdown",
   "metadata": {},
   "source": [
    "**16. Group the data by `Grouping` and plot the distribution of `Marital Status`**"
   ]
  },
  {
   "cell_type": "markdown",
   "metadata": {},
   "source": [
    "**17. Group the data by `Grouping` and plot the distribution of `Menarche (years)`**"
   ]
  },
  {
   "cell_type": "markdown",
   "metadata": {},
   "source": [
    "**18. Group the data by `Grouping` and plot the distribution of `First Pregnancy`**"
   ]
  },
  {
   "cell_type": "markdown",
   "metadata": {},
   "source": [
    "**19. Group the data by `Grouping` and plot the distribution of `Parity`**"
   ]
  },
  {
   "cell_type": "markdown",
   "metadata": {},
   "source": [
    "**20. Group the data by `Grouping` and plot the distribution of `Breast Feeding`**"
   ]
  },
  {
   "cell_type": "markdown",
   "metadata": {},
   "source": [
    "**21. Group the data by `Grouping` and plot the distribution of `Highfat`**"
   ]
  },
  {
   "cell_type": "markdown",
   "metadata": {},
   "source": [
    "**22. Group the data by `Grouping` and plot the distribution of `BMI`**"
   ]
  },
  {
   "cell_type": "markdown",
   "metadata": {},
   "source": [
    "**23. Group the data by `Grouping` and plot the distribution of `Ethnicity`**"
   ]
  },
  {
   "cell_type": "markdown",
   "metadata": {},
   "source": [
    "**24. Gabungkan semua plot di atas dalam satu plot untuk melihat distribusi data secara keseluruhan.**"
   ]
  },
  {
   "cell_type": "markdown",
   "metadata": {},
   "source": [
    "## Feature Engineering"
   ]
  },
  {
   "cell_type": "markdown",
   "metadata": {},
   "source": [
    "### 1. Feature Selection Using Chi-Square Test\n",
    "\n",
    "The Chi-square test is a statistical test that's used to determine if there's a significant association between two categorical variables in a sample. It's based on the difference between the observed frequencies in each category of a cross-tabulation, and the frequencies that we would expect to get by chance alone.\n",
    "\n",
    "The test calculates a statistic that follows a Chi-square distribution, which is where it gets its name. The degrees of freedom for the test are determined by the number of categories in each variable.\n",
    "\n",
    "The null hypothesis for the test is that the variables are independent, and the alternative hypothesis is that they are not independent. If the p-value of the test is less than the chosen significance level (often 0.05), then we reject the null hypothesis and conclude that there is a significant association between the variables."
   ]
  },
  {
   "cell_type": "markdown",
   "metadata": {},
   "source": [
    "### 2. Feature Selection Using Feature Importance (Random Forest)\n",
    "\n",
    "Feature importance in a Random Forest model refers to the average contribution of each feature in improving the predictions made by the model. It's a measure of how much the model's predictions depend on each feature.\n",
    "\n",
    "Random Forest calculates feature importance based on the decrease in node impurity, which is weighted by the probability of reaching that node (which is approximated by the number of samples that reach the node). The higher the value, the more important the feature.\n",
    "\n",
    "In other words, a feature has a high importance if it significantly improves the predictive accuracy of the model, and a low importance if it doesn't contribute much to the model's accuracy, or even decreases it.\n",
    "\n",
    "Here's how you can get feature importance from a Random Forest model in Python using the `sklearn` library:\n",
    "\n",
    "```python\n",
    "from sklearn.ensemble import RandomForestClassifier\n",
    "\n",
    "# Assume X is your feature matrix and y are your labels\n",
    "clf = RandomForestClassifier()\n",
    "clf.fit(X, y)\n",
    "\n",
    "# Get feature importances\n",
    "importances = clf.feature_importances_\n",
    "\n",
    "# Print feature importances\n",
    "for feature, importance in zip(X.columns, importances):\n",
    "    print(f'Feature: {feature}, Importance: {importance}')\n",
    "```"
   ]
  },
  {
   "cell_type": "markdown",
   "metadata": {},
   "source": []
  }
 ],
 "metadata": {
  "kernelspec": {
   "display_name": "data-analytics",
   "language": "python",
   "name": "python3"
  },
  "language_info": {
   "codemirror_mode": {
    "name": "ipython",
    "version": 3
   },
   "file_extension": ".py",
   "mimetype": "text/x-python",
   "name": "python",
   "nbconvert_exporter": "python",
   "pygments_lexer": "ipython3",
   "version": "3.9.13"
  }
 },
 "nbformat": 4,
 "nbformat_minor": 2
}
